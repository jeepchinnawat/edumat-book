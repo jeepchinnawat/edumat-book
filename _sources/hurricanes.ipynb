{
 "cells": [
  {
   "cell_type": "markdown",
   "id": "dd193994-d69d-438f-a874-061e1dd4a01e",
   "metadata": {},
   "source": [
    "# (outlined) North Atlantic Hurricanes"
   ]
  },
  {
   "cell_type": "code",
   "execution_count": 184,
   "id": "46129f35-875c-4218-92d6-e26e91fcdc91",
   "metadata": {
    "scrolled": true
   },
   "outputs": [
    {
     "data": {
      "text/html": [
       "<div>\n",
       "<style scoped>\n",
       "    .dataframe tbody tr th:only-of-type {\n",
       "        vertical-align: middle;\n",
       "    }\n",
       "\n",
       "    .dataframe tbody tr th {\n",
       "        vertical-align: top;\n",
       "    }\n",
       "\n",
       "    .dataframe thead th {\n",
       "        text-align: right;\n",
       "    }\n",
       "</style>\n",
       "<table border=\"1\" class=\"dataframe\">\n",
       "  <thead>\n",
       "    <tr style=\"text-align: right;\">\n",
       "      <th></th>\n",
       "      <th>RowNames</th>\n",
       "      <th>Number</th>\n",
       "      <th>Name</th>\n",
       "      <th>Year</th>\n",
       "      <th>Type</th>\n",
       "      <th>FirstLat</th>\n",
       "      <th>FirstLon</th>\n",
       "      <th>MaxLat</th>\n",
       "      <th>MaxLon</th>\n",
       "      <th>LastLat</th>\n",
       "      <th>LastLon</th>\n",
       "      <th>MaxInt</th>\n",
       "    </tr>\n",
       "  </thead>\n",
       "  <tbody>\n",
       "    <tr>\n",
       "      <th>0</th>\n",
       "      <td>1</td>\n",
       "      <td>430</td>\n",
       "      <td>NOTNAMED</td>\n",
       "      <td>1944</td>\n",
       "      <td>1</td>\n",
       "      <td>30.2</td>\n",
       "      <td>-76.1</td>\n",
       "      <td>32.1</td>\n",
       "      <td>-74.8</td>\n",
       "      <td>35.1</td>\n",
       "      <td>-69.2</td>\n",
       "      <td>80</td>\n",
       "    </tr>\n",
       "    <tr>\n",
       "      <th>1</th>\n",
       "      <td>2</td>\n",
       "      <td>432</td>\n",
       "      <td>NOTNAMED</td>\n",
       "      <td>1944</td>\n",
       "      <td>0</td>\n",
       "      <td>25.6</td>\n",
       "      <td>-74.9</td>\n",
       "      <td>31.0</td>\n",
       "      <td>-78.1</td>\n",
       "      <td>32.6</td>\n",
       "      <td>-78.2</td>\n",
       "      <td>80</td>\n",
       "    </tr>\n",
       "    <tr>\n",
       "      <th>2</th>\n",
       "      <td>3</td>\n",
       "      <td>433</td>\n",
       "      <td>NOTNAMED</td>\n",
       "      <td>1944</td>\n",
       "      <td>0</td>\n",
       "      <td>14.2</td>\n",
       "      <td>-65.2</td>\n",
       "      <td>16.6</td>\n",
       "      <td>-72.2</td>\n",
       "      <td>20.6</td>\n",
       "      <td>-88.5</td>\n",
       "      <td>105</td>\n",
       "    </tr>\n",
       "    <tr>\n",
       "      <th>3</th>\n",
       "      <td>4</td>\n",
       "      <td>436</td>\n",
       "      <td>NOTNAMED</td>\n",
       "      <td>1944</td>\n",
       "      <td>0</td>\n",
       "      <td>20.8</td>\n",
       "      <td>-58.0</td>\n",
       "      <td>26.3</td>\n",
       "      <td>-72.3</td>\n",
       "      <td>42.1</td>\n",
       "      <td>-71.5</td>\n",
       "      <td>120</td>\n",
       "    </tr>\n",
       "    <tr>\n",
       "      <th>4</th>\n",
       "      <td>5</td>\n",
       "      <td>437</td>\n",
       "      <td>NOTNAMED</td>\n",
       "      <td>1944</td>\n",
       "      <td>0</td>\n",
       "      <td>20.0</td>\n",
       "      <td>-84.2</td>\n",
       "      <td>20.6</td>\n",
       "      <td>-84.9</td>\n",
       "      <td>19.1</td>\n",
       "      <td>-93.9</td>\n",
       "      <td>70</td>\n",
       "    </tr>\n",
       "    <tr>\n",
       "      <th>...</th>\n",
       "      <td>...</td>\n",
       "      <td>...</td>\n",
       "      <td>...</td>\n",
       "      <td>...</td>\n",
       "      <td>...</td>\n",
       "      <td>...</td>\n",
       "      <td>...</td>\n",
       "      <td>...</td>\n",
       "      <td>...</td>\n",
       "      <td>...</td>\n",
       "      <td>...</td>\n",
       "      <td>...</td>\n",
       "    </tr>\n",
       "    <tr>\n",
       "      <th>332</th>\n",
       "      <td>333</td>\n",
       "      <td>1227</td>\n",
       "      <td>GORDON</td>\n",
       "      <td>2000</td>\n",
       "      <td>1</td>\n",
       "      <td>25.2</td>\n",
       "      <td>-85.4</td>\n",
       "      <td>26.1</td>\n",
       "      <td>-84.9</td>\n",
       "      <td>28.0</td>\n",
       "      <td>-83.8</td>\n",
       "      <td>70</td>\n",
       "    </tr>\n",
       "    <tr>\n",
       "      <th>333</th>\n",
       "      <td>334</td>\n",
       "      <td>1229</td>\n",
       "      <td>ISAAC</td>\n",
       "      <td>2000</td>\n",
       "      <td>0</td>\n",
       "      <td>14.3</td>\n",
       "      <td>-33.2</td>\n",
       "      <td>26.6</td>\n",
       "      <td>-54.2</td>\n",
       "      <td>39.7</td>\n",
       "      <td>-47.9</td>\n",
       "      <td>120</td>\n",
       "    </tr>\n",
       "    <tr>\n",
       "      <th>334</th>\n",
       "      <td>335</td>\n",
       "      <td>1230</td>\n",
       "      <td>JOYCE</td>\n",
       "      <td>2000</td>\n",
       "      <td>0</td>\n",
       "      <td>12.4</td>\n",
       "      <td>-38.8</td>\n",
       "      <td>12.2</td>\n",
       "      <td>-42.5</td>\n",
       "      <td>10.5</td>\n",
       "      <td>-48.6</td>\n",
       "      <td>80</td>\n",
       "    </tr>\n",
       "    <tr>\n",
       "      <th>335</th>\n",
       "      <td>336</td>\n",
       "      <td>1231</td>\n",
       "      <td>KEITH</td>\n",
       "      <td>2000</td>\n",
       "      <td>0</td>\n",
       "      <td>17.9</td>\n",
       "      <td>-86.4</td>\n",
       "      <td>17.9</td>\n",
       "      <td>-87.2</td>\n",
       "      <td>22.6</td>\n",
       "      <td>-97.9</td>\n",
       "      <td>120</td>\n",
       "    </tr>\n",
       "    <tr>\n",
       "      <th>336</th>\n",
       "      <td>337</td>\n",
       "      <td>1233</td>\n",
       "      <td>MICHAEL</td>\n",
       "      <td>2000</td>\n",
       "      <td>3</td>\n",
       "      <td>30.1</td>\n",
       "      <td>-70.9</td>\n",
       "      <td>44.0</td>\n",
       "      <td>-58.5</td>\n",
       "      <td>51.0</td>\n",
       "      <td>-53.5</td>\n",
       "      <td>85</td>\n",
       "    </tr>\n",
       "  </tbody>\n",
       "</table>\n",
       "<p>337 rows × 12 columns</p>\n",
       "</div>"
      ],
      "text/plain": [
       "     RowNames  Number      Name  Year  Type  FirstLat  FirstLon  MaxLat  \\\n",
       "0           1     430  NOTNAMED  1944     1      30.2     -76.1    32.1   \n",
       "1           2     432  NOTNAMED  1944     0      25.6     -74.9    31.0   \n",
       "2           3     433  NOTNAMED  1944     0      14.2     -65.2    16.6   \n",
       "3           4     436  NOTNAMED  1944     0      20.8     -58.0    26.3   \n",
       "4           5     437  NOTNAMED  1944     0      20.0     -84.2    20.6   \n",
       "..        ...     ...       ...   ...   ...       ...       ...     ...   \n",
       "332       333    1227    GORDON  2000     1      25.2     -85.4    26.1   \n",
       "333       334    1229     ISAAC  2000     0      14.3     -33.2    26.6   \n",
       "334       335    1230     JOYCE  2000     0      12.4     -38.8    12.2   \n",
       "335       336    1231     KEITH  2000     0      17.9     -86.4    17.9   \n",
       "336       337    1233   MICHAEL  2000     3      30.1     -70.9    44.0   \n",
       "\n",
       "     MaxLon  LastLat  LastLon  MaxInt  \n",
       "0     -74.8     35.1    -69.2      80  \n",
       "1     -78.1     32.6    -78.2      80  \n",
       "2     -72.2     20.6    -88.5     105  \n",
       "3     -72.3     42.1    -71.5     120  \n",
       "4     -84.9     19.1    -93.9      70  \n",
       "..      ...      ...      ...     ...  \n",
       "332   -84.9     28.0    -83.8      70  \n",
       "333   -54.2     39.7    -47.9     120  \n",
       "334   -42.5     10.5    -48.6      80  \n",
       "335   -87.2     22.6    -97.9     120  \n",
       "336   -58.5     51.0    -53.5      85  \n",
       "\n",
       "[337 rows x 12 columns]"
      ]
     },
     "execution_count": 184,
     "metadata": {},
     "output_type": "execute_result"
    }
   ],
   "source": [
    "from pathlib import Path\n",
    "import pandas as pd\n",
    "import numpy as np\n",
    "\n",
    "DATA_FOLDER = Path(\"..\") / \"data\"\n",
    "DATA_FILEPATH = DATA_FOLDER / \"hurricanes.csv\"\n",
    "# Execute on cloud platform? (e.g. colab), try this path instead\n",
    "# DATA_FILEPATH = \"https://raw.githubusercontent.com/jeepchinnawat/edumat-book/main/data/hurricanes.csv\"\n",
    "\n",
    "hurricanes = pd.read_csv(DATA_FILEPATH)\n",
    "hurricanes"
   ]
  },
  {
   "cell_type": "markdown",
   "id": "9fd1fa0d-da1a-43cf-aec5-fa0676b4eeef",
   "metadata": {},
   "source": [
    "## Introductory Data Inspection"
   ]
  },
  {
   "cell_type": "code",
   "execution_count": 109,
   "id": "ac6fc382-8ee7-4fa8-86ce-d91aa3fe1dc4",
   "metadata": {},
   "outputs": [
    {
     "name": "stdout",
     "output_type": "stream",
     "text": [
      "<class 'pandas.core.frame.DataFrame'>\n",
      "RangeIndex: 337 entries, 0 to 336\n",
      "Data columns (total 12 columns):\n",
      " #   Column    Non-Null Count  Dtype  \n",
      "---  ------    --------------  -----  \n",
      " 0   RowNames  337 non-null    int64  \n",
      " 1   Number    337 non-null    int64  \n",
      " 2   Name      337 non-null    object \n",
      " 3   Year      337 non-null    int64  \n",
      " 4   Type      337 non-null    int64  \n",
      " 5   FirstLat  337 non-null    float64\n",
      " 6   FirstLon  337 non-null    float64\n",
      " 7   MaxLat    337 non-null    float64\n",
      " 8   MaxLon    337 non-null    float64\n",
      " 9   LastLat   337 non-null    float64\n",
      " 10  LastLon   337 non-null    float64\n",
      " 11  MaxInt    337 non-null    int64  \n",
      "dtypes: float64(6), int64(5), object(1)\n",
      "memory usage: 31.7+ KB\n"
     ]
    }
   ],
   "source": [
    "hurricanes.info()"
   ]
  },
  {
   "cell_type": "code",
   "execution_count": 110,
   "id": "0794d88e-3285-4e8c-8f10-adc0833542f3",
   "metadata": {},
   "outputs": [],
   "source": [
    "features = ['FirstLat','FirstLon','MaxLat','MaxLon','LastLat','LastLon','MaxInt']\n",
    "label = ['Type']"
   ]
  },
  {
   "cell_type": "code",
   "execution_count": 101,
   "id": "54c42903-67b9-4bd7-a6a4-a3409cf23d01",
   "metadata": {},
   "outputs": [
    {
     "data": {
      "text/html": [
       "<div>\n",
       "<style scoped>\n",
       "    .dataframe tbody tr th:only-of-type {\n",
       "        vertical-align: middle;\n",
       "    }\n",
       "\n",
       "    .dataframe tbody tr th {\n",
       "        vertical-align: top;\n",
       "    }\n",
       "\n",
       "    .dataframe thead th {\n",
       "        text-align: right;\n",
       "    }\n",
       "</style>\n",
       "<table border=\"1\" class=\"dataframe\">\n",
       "  <thead>\n",
       "    <tr style=\"text-align: right;\">\n",
       "      <th></th>\n",
       "      <th>FirstLat</th>\n",
       "      <th>FirstLon</th>\n",
       "      <th>MaxLat</th>\n",
       "      <th>MaxLon</th>\n",
       "      <th>LastLat</th>\n",
       "      <th>LastLon</th>\n",
       "      <th>MaxInt</th>\n",
       "    </tr>\n",
       "  </thead>\n",
       "  <tbody>\n",
       "    <tr>\n",
       "      <th>count</th>\n",
       "      <td>337.000000</td>\n",
       "      <td>337.000000</td>\n",
       "      <td>337.000000</td>\n",
       "      <td>337.000000</td>\n",
       "      <td>337.000000</td>\n",
       "      <td>337.000000</td>\n",
       "      <td>337.000000</td>\n",
       "    </tr>\n",
       "    <tr>\n",
       "      <th>mean</th>\n",
       "      <td>23.437982</td>\n",
       "      <td>-65.568546</td>\n",
       "      <td>27.198220</td>\n",
       "      <td>-68.650742</td>\n",
       "      <td>34.550148</td>\n",
       "      <td>-64.895252</td>\n",
       "      <td>94.572700</td>\n",
       "    </tr>\n",
       "    <tr>\n",
       "      <th>std</th>\n",
       "      <td>7.592829</td>\n",
       "      <td>17.665280</td>\n",
       "      <td>7.724416</td>\n",
       "      <td>16.875719</td>\n",
       "      <td>10.175473</td>\n",
       "      <td>22.074126</td>\n",
       "      <td>23.287442</td>\n",
       "    </tr>\n",
       "    <tr>\n",
       "      <th>min</th>\n",
       "      <td>10.300000</td>\n",
       "      <td>-96.700000</td>\n",
       "      <td>10.300000</td>\n",
       "      <td>-98.400000</td>\n",
       "      <td>10.000000</td>\n",
       "      <td>-99.200000</td>\n",
       "      <td>65.000000</td>\n",
       "    </tr>\n",
       "    <tr>\n",
       "      <th>25%</th>\n",
       "      <td>16.600000</td>\n",
       "      <td>-80.000000</td>\n",
       "      <td>21.700000</td>\n",
       "      <td>-82.500000</td>\n",
       "      <td>28.700000</td>\n",
       "      <td>-83.500000</td>\n",
       "      <td>75.000000</td>\n",
       "    </tr>\n",
       "    <tr>\n",
       "      <th>50%</th>\n",
       "      <td>23.300000</td>\n",
       "      <td>-65.300000</td>\n",
       "      <td>27.300000</td>\n",
       "      <td>-68.400000</td>\n",
       "      <td>35.500000</td>\n",
       "      <td>-65.600000</td>\n",
       "      <td>90.000000</td>\n",
       "    </tr>\n",
       "    <tr>\n",
       "      <th>75%</th>\n",
       "      <td>28.700000</td>\n",
       "      <td>-53.400000</td>\n",
       "      <td>33.000000</td>\n",
       "      <td>-56.800000</td>\n",
       "      <td>42.100000</td>\n",
       "      <td>-48.500000</td>\n",
       "      <td>110.000000</td>\n",
       "    </tr>\n",
       "    <tr>\n",
       "      <th>max</th>\n",
       "      <td>46.000000</td>\n",
       "      <td>-23.000000</td>\n",
       "      <td>48.000000</td>\n",
       "      <td>-7.500000</td>\n",
       "      <td>61.100000</td>\n",
       "      <td>-5.000000</td>\n",
       "      <td>165.000000</td>\n",
       "    </tr>\n",
       "  </tbody>\n",
       "</table>\n",
       "</div>"
      ],
      "text/plain": [
       "         FirstLat    FirstLon      MaxLat      MaxLon     LastLat     LastLon  \\\n",
       "count  337.000000  337.000000  337.000000  337.000000  337.000000  337.000000   \n",
       "mean    23.437982  -65.568546   27.198220  -68.650742   34.550148  -64.895252   \n",
       "std      7.592829   17.665280    7.724416   16.875719   10.175473   22.074126   \n",
       "min     10.300000  -96.700000   10.300000  -98.400000   10.000000  -99.200000   \n",
       "25%     16.600000  -80.000000   21.700000  -82.500000   28.700000  -83.500000   \n",
       "50%     23.300000  -65.300000   27.300000  -68.400000   35.500000  -65.600000   \n",
       "75%     28.700000  -53.400000   33.000000  -56.800000   42.100000  -48.500000   \n",
       "max     46.000000  -23.000000   48.000000   -7.500000   61.100000   -5.000000   \n",
       "\n",
       "           MaxInt  \n",
       "count  337.000000  \n",
       "mean    94.572700  \n",
       "std     23.287442  \n",
       "min     65.000000  \n",
       "25%     75.000000  \n",
       "50%     90.000000  \n",
       "75%    110.000000  \n",
       "max    165.000000  "
      ]
     },
     "execution_count": 101,
     "metadata": {},
     "output_type": "execute_result"
    }
   ],
   "source": [
    "hurricanes[features].describe()"
   ]
  },
  {
   "cell_type": "code",
   "execution_count": 108,
   "id": "a7bed402-9ac5-4dc3-9219-9f6b008cfc22",
   "metadata": {},
   "outputs": [
    {
     "data": {
      "text/plain": [
       "<Axes: >"
      ]
     },
     "execution_count": 108,
     "metadata": {},
     "output_type": "execute_result"
    },
    {
     "data": {
      "image/png": "[encoded data removed]",
      "text/plain": [
       "<Figure size 640x480 with 1 Axes>"
      ]
     },
     "metadata": {},
     "output_type": "display_data"
    }
   ],
   "source": [
    "hurricanes[features].boxplot()"
   ]
  },
  {
   "cell_type": "code",
   "execution_count": 107,
   "id": "763987f0-c1ff-4a0c-9598-6f42e5ece725",
   "metadata": {},
   "outputs": [],
   "source": [
    "# hurricanes[features].hist(bins=30, figsize=(15,10))"
   ]
  },
  {
   "cell_type": "markdown",
   "id": "a0694f97-7cef-4676-b5d1-c4101132228c",
   "metadata": {},
   "source": [
    "## Feature Selection"
   ]
  },
  {
   "cell_type": "markdown",
   "id": "aec0f434-a1e8-4fc9-a58b-63b6d9994d4d",
   "metadata": {},
   "source": [
    "### Univariate Selection"
   ]
  },
  {
   "cell_type": "code",
   "execution_count": 178,
   "id": "5cdf4b7c-d8eb-4caa-adcf-d5bb1edead15",
   "metadata": {},
   "outputs": [
    {
     "data": {
      "image/png": "[encoded data removed]",
      "text/plain": [
       "<Figure size 640x480 with 1 Axes>"
      ]
     },
     "metadata": {},
     "output_type": "display_data"
    }
   ],
   "source": [
    "from sklearn.feature_selection import SelectKBest, f_classif\n",
    "import matplotlib.pyplot as plt\n",
    "\n",
    "selector = SelectKBest(f_classif, k=2)\n",
    "selector.fit(hurricanes[features], hurricanes[label[0]])\n",
    "scores = selector.scores_\n",
    "\n",
    "features_scores = pd.Series(scores, index=features)\n",
    "\n",
    "fig, ax = plt.subplots()\n",
    "features_scores.plot.barh(ax=ax, color='skyblue')\n",
    "ax.grid(True, which='both', color='grey', linewidth=0.3)\n",
    "ax.set_title(\"Univariate selection toward label 'Type'\")\n",
    "ax.set_xlabel(\"score\")\n",
    "fig.tight_layout()\n",
    "plt.show()"
   ]
  },
  {
   "cell_type": "markdown",
   "id": "91ff5e17-6e32-4791-b57b-2b0b3c3249dc",
   "metadata": {},
   "source": [
    "### Random Forest's Feature Importance"
   ]
  },
  {
   "cell_type": "code",
   "execution_count": 174,
   "id": "484664b9-31ee-417b-8c0e-d56f245dc77f",
   "metadata": {},
   "outputs": [],
   "source": [
    "from sklearn.ensemble import RandomForestClassifier\n",
    "from sklearn.model_selection import GridSearchCV\n",
    "\n",
    "# Parameters for GridSearch\n",
    "param_grid = {\n",
    "'n_estimators': [10, 20, 30, 40],\n",
    "'max_depth': [2,4,6, 8],\n",
    "'min_samples_split': [2, 4],\n",
    "    'max_features': [1,2,4,7]\n",
    "}\n",
    "\n",
    "# rf = RandomForestClassifier(random_state=20, n_jobs=2,min_samples_leaf=1)\n",
    "# # Grid search with cross-validation\n",
    "# cv_rf = GridSearchCV(estimator=rf, param_grid=param_grid)\n",
    "# cv_rf.fit(X_train, y_train)\n",
    "# print(f\"Best parameters: {cv_rf.best_params_}\")"
   ]
  },
  {
   "cell_type": "code",
   "execution_count": 179,
   "id": "f5c8ec49-05d7-44ed-9ba3-041af5a03435",
   "metadata": {},
   "outputs": [
    {
     "data": {
      "image/png": "[encoded data removed]",
      "text/plain": [
       "<Figure size 640x480 with 1 Axes>"
      ]
     },
     "metadata": {},
     "output_type": "display_data"
    }
   ],
   "source": [
    "rf = RandomForestClassifier(random_state=20, n_jobs=2, min_samples_leaf=1,\n",
    "                            max_depth=4, max_features=2, min_samples_split=2, n_estimators=40)\n",
    "rf.fit(hurricanes[features], hurricanes[label[0]])\n",
    "\n",
    "importances = rf.feature_importances_\n",
    "features_scores = pd.Series(importances, index=features)\n",
    "\n",
    "fig, ax = plt.subplots()\n",
    "features_scores.plot.barh(ax=ax, color='skyblue')\n",
    "ax.grid(True, which='both', color='grey', linewidth=0.3)\n",
    "ax.set_title(\"RF Feature importances\")\n",
    "ax.set_xlabel(\"Mean decrease in impurity\")\n",
    "fig.tight_layout()\n",
    "plt.show()"
   ]
  },
  {
   "cell_type": "code",
   "execution_count": 176,
   "id": "8be9dffc-a159-4310-abe8-957f796663bc",
   "metadata": {},
   "outputs": [],
   "source": [
    "selected_features = [\"FirstLat\",\"MaxLat\"]"
   ]
  },
  {
   "cell_type": "markdown",
   "id": "de24b0e1-9513-4abc-b85c-6d4a1bddc003",
   "metadata": {},
   "source": [
    "## Stratified Data Splitting"
   ]
  },
  {
   "cell_type": "code",
   "execution_count": 89,
   "id": "19ba30cc-a569-4a97-93f2-54f8e5cf4bd2",
   "metadata": {},
   "outputs": [
    {
     "data": {
      "text/plain": [
       "<Axes: xlabel='Type'>"
      ]
     },
     "execution_count": 89,
     "metadata": {},
     "output_type": "execute_result"
    },
    {
     "data": {
      "image/png": "[encoded data removed]",
      "text/plain": [
       "<Figure size 640x480 with 1 Axes>"
      ]
     },
     "metadata": {},
     "output_type": "display_data"
    }
   ],
   "source": [
    "hurricanes.groupby('Type').Type.count().plot(kind='bar')"
   ]
  },
  {
   "cell_type": "code",
   "execution_count": 177,
   "id": "6db1ef9b-915c-4774-9ea7-03c2a736bc6b",
   "metadata": {},
   "outputs": [],
   "source": [
    "from sklearn.model_selection import train_test_split\n",
    "\n",
    "X,y = hurricanes[selected_features].copy(), hurricanes[\"Type\"].copy()\n",
    "X_train, X_test, y_train, y_test = \\\n",
    "    train_test_split(X, y, train_size=.7, random_state=20, stratify=y)"
   ]
  },
  {
   "cell_type": "markdown",
   "id": "366dbfb3-19ea-41be-b994-295d98a8e5c7",
   "metadata": {},
   "source": [
    "## Classification Model"
   ]
  },
  {
   "cell_type": "markdown",
   "id": "c7e21c9c-66c4-4a82-b7cc-6ce0644fd75c",
   "metadata": {},
   "source": [
    "### Classification Report"
   ]
  },
  {
   "cell_type": "markdown",
   "id": "b708860c-7643-46b6-9458-5949ad1fec3c",
   "metadata": {},
   "source": [
    "### Choices of Evaluation Metrics"
   ]
  },
  {
   "cell_type": "markdown",
   "id": "437f8942-fe2b-45e0-b98e-a636a789cb81",
   "metadata": {},
   "source": [
    "## Next...?\n",
    "- Re-classify the dataset with the model to have a simulated dataset (perfectly separable)\n",
    "- Adding uncertainty(noise) to features of the simulated dataset\n",
    "- Predicted a noisy dataset and compare to the simulated\n",
    "- Expected: Affecting data points in the vicinity of decision boundaries"
   ]
  },
  {
   "cell_type": "code",
   "execution_count": 183,
   "id": "2a3cb2e0-b2a1-410f-aec7-02dc16a86199",
   "metadata": {},
   "outputs": [],
   "source": [
    "# tropical_hurricanes = hurricanes.copy()\n",
    "# # set type 3 to type 1 for binary classification problem\n",
    "# tropical_hurricanes[tropical_hurricanes['Type'] == 3] = 1\n",
    "# # check that there are only type 0 and type 1\n",
    "# tropical_hurricanes['Type'].unique()"
   ]
  },
  {
   "cell_type": "code",
   "execution_count": 182,
   "id": "c586f085-d2a1-40b9-9d35-6ca415bb2261",
   "metadata": {},
   "outputs": [],
   "source": [
    "# tropical_hurricanes['Type'].groupby(tropical_hurricanes['Type']).count()"
   ]
  }
 ],
 "metadata": {
  "kernelspec": {
   "display_name": "edumat",
   "language": "python",
   "name": "edumat"
  },
  "language_info": {
   "codemirror_mode": {
    "name": "ipython",
    "version": 3
   },
   "file_extension": ".py",
   "mimetype": "text/x-python",
   "name": "python",
   "nbconvert_exporter": "python",
   "pygments_lexer": "ipython3",
   "version": "3.10.10"
  }
 },
 "nbformat": 4,
 "nbformat_minor": 5
}
