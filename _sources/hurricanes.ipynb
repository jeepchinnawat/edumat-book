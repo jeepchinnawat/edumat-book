{
 "cells": [
  {
   "cell_type": "code",
   "execution_count": null,
   "id": "46129f35-875c-4218-92d6-e26e91fcdc91",
   "metadata": {},
   "outputs": [],
   "source": []
  }
 ],
 "metadata": {
  "kernelspec": {
   "display_name": "edumat",
   "language": "python",
   "name": "edumat"
  },
  "language_info": {
   "codemirror_mode": {
    "name": "ipython",
    "version": 3
   },
   "file_extension": ".py",
   "mimetype": "text/x-python",
   "name": "python",
   "nbconvert_exporter": "python",
   "pygments_lexer": "ipython3",
   "version": "3.10.10"
  }
 },
 "nbformat": 4,
 "nbformat_minor": 5
}
